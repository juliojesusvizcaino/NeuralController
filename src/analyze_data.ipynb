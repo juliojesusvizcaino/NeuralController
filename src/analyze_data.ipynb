{
 "cells": [
  {
   "cell_type": "code",
   "execution_count": 3,
   "metadata": {
    "collapsed": true
   },
   "outputs": [],
   "source": [
    "import numpy as np\n",
    "import pickle\n",
    "import os"
   ]
  },
  {
   "cell_type": "code",
   "execution_count": 4,
   "metadata": {},
   "outputs": [
    {
     "name": "stdout",
     "output_type": "stream",
     "text": [
      "/media/Datos/TrabajoLinux/Teleco/Ahora/TFG/catkin_ws/src/recibe_datos\n"
     ]
    }
   ],
   "source": [
    "print(os.getcwd())\n",
    "with open('cvscores', 'r') as f:\n",
    "    data = pickle.load(f)"
   ]
  },
  {
   "cell_type": "code",
   "execution_count": 5,
   "metadata": {},
   "outputs": [
    {
     "name": "stdout",
     "output_type": "stream",
     "text": [
      "[[23.655105045863561, 0.11007091068491644, 409776.32780612243, 410.8757218341438], [22.85692798848055, 0.24107989303919733, 280730.89668367349, 282.06533657774634], [26.919233088590662, 0.15618629814410695, 298996.61607142858, 300.63317310566805], [24.262676706119461, 0.099839650246561787, 264443.4445153061, 266.2301803900271], [24.843191782633465, 0.17729138831297556, 366402.44791666669, 367.51103719075519], [21.665524164835613, 0.1147775116066138, 430709.85416666669, 431.54250081380206], [24.924435933430988, 0.21512982745965323, 316851.91666666669, 318.3331298828125], [21.628452301025391, 0.31993447740872699, 314415.98958333331, 315.78077189127606], [21.353412628173828, 0.29088989893595379, 297640.40625, 299.15697224934894], [23.326742172241211, 0.18486459304889044, 271055.8125, 272.66412353515625]]\n"
     ]
    }
   ],
   "source": [
    "print(data)"
   ]
  },
  {
   "cell_type": "code",
   "execution_count": 6,
   "metadata": {},
   "outputs": [
    {
     "name": "stdout",
     "output_type": "stream",
     "text": [
      "0.191006444889\n"
     ]
    }
   ],
   "source": [
    "print(np.mean([d[1] for d in data]))"
   ]
  }
 ],
 "metadata": {
  "kernelspec": {
   "display_name": "Python 2",
   "language": "python",
   "name": "python2"
  },
  "language_info": {
   "codemirror_mode": {
    "name": "ipython",
    "version": 2.0
   },
   "file_extension": ".py",
   "mimetype": "text/x-python",
   "name": "python",
   "nbconvert_exporter": "python",
   "pygments_lexer": "ipython2",
   "version": "2.7.6"
  }
 },
 "nbformat": 4,
 "nbformat_minor": 0
}