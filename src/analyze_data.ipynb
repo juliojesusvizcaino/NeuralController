{
 "cells": [
  {
   "cell_type": "code",
   "execution_count": 19,
   "metadata": {
    "collapsed": true
   },
   "outputs": [],
   "source": [
    "import h5py\n",
    "import numpy as np\n",
    "from keras.callbacks import ModelCheckpoint, TensorBoard\n",
    "from keras.layers import RepeatVector, Dense, Dropout, Input, Convolution1D, LSTM, TimeDistributed\n",
    "from keras.metrics import mean_squared_error, mean_absolute_error\n",
    "from keras.models import Sequential, Model\n",
    "from keras.preprocessing.sequence import pad_sequences\n",
    "from sklearn.model_selection import train_test_split\n",
    "import matplotlib.pyplot as plt\n",
    "\n",
    "%matplotlib inline\n",
    "\n",
    "\n",
    "def keras_model(max_unroll):\n",
    "    inputs = Input(shape=(15,))\n",
    "\n",
    "    x = RepeatVector(max_unroll)(inputs)\n",
    "    x = TimeDistributed(Dense(64))(x)\n",
    "    x = Dropout(0.1)(x)\n",
    "    x = LSTM(64, return_sequences=True, dropout_U=0.05, dropout_W=0.1)(x)\n",
    "    x = Convolution1D(50, 3, border_mode='same', activation='relu')(x)\n",
    "    x = Dropout(0.1)(x)\n",
    "    x = Convolution1D(20, 3, border_mode='same', activation='relu')(x)\n",
    "    x = Dropout(0.1)(x)\n",
    "    x = TimeDistributed(Dense(50, activation='relu'))(x)\n",
    "    x = Dropout(0.1)(x)\n",
    "    main_output = TimeDistributed(Dense(7), name='output')(x)\n",
    "    mask_output = TimeDistributed(Dense(1, activation='sigmoid'), name='mask')(x)\n",
    "\n",
    "    model = Model(input=inputs, output=[main_output, mask_output])\n",
    "\n",
    "    model.compile(optimizer='adam', loss='mae', sample_weight_mode='temporal',\n",
    "              metrics=[mean_absolute_error, mean_squared_error], loss_weights=[1., 1.])\n",
    "\n",
    "    return model"
   ]
  },
  {
   "cell_type": "code",
   "execution_count": 20,
   "metadata": {},
   "outputs": [],
   "source": [
    "model = keras_model(1502)\n",
    "model.load_weights('save/model_checkpoint.499-mae2.919.hdf5')"
   ]
  },
  {
   "cell_type": "code",
   "execution_count": 21,
   "metadata": {},
   "outputs": [],
   "source": [
    "path = 'DataBase/data.hdf5'\n",
    "names = ['target_pos', 'target_speed', 'pos', 'vel', 'effort']\n",
    "np.random.seed(1098)\n",
    "data = list()\n",
    "with h5py.File(path, 'r') as f:\n",
    "    (target_pos, target_speed, pos, vel, effort) = [[np.array(val) for val in f[name].values()] for name in names]\n",
    "# todo normalizar datos\n",
    "\n",
    "x_target = np.array(target_pos)\n",
    "x_first = np.array([pos_[0] for pos_ in pos])\n",
    "x_speed = np.array(target_speed).reshape((-1, 1))\n",
    "aux_output = [np.ones(eff.shape[0]).reshape((-1, 1)) for eff in effort]\n",
    "\n",
    "x = np.concatenate((x_target, x_first, x_speed), axis=1)\n",
    "y = pad_sequences(effort, padding='post', value=0.)\n",
    "aux_output = pad_sequences(aux_output, padding='post', value=0.)\n",
    "x, x_test, y, y_test, y_aux, y_aux_test = train_test_split(x, y, aux_output, test_size=0.2)\n",
    "\n",
    "mask = y_aux[:, :, 0]\n",
    "mask_test = y_aux_test[:, :, 0]\n",
    "mask_aux = np.ones(y_aux.shape[0:2])\n",
    "mask_aux_test = np.ones(y_aux_test.shape[0:2])"
   ]
  },
  {
   "cell_type": "code",
   "execution_count": 35,
   "metadata": {},
   "outputs": [
    {
     "name": "stdout",
     "output_type": "stream",
     "text": [
      "(122, 15)\n"
     ]
    },
    {
     "name": "stdout",
     "output_type": "stream",
     "text": [
      "(122, 1502, 7)\n"
     ]
    },
    {
     "data": {
      "text/plain": [
       "[<matplotlib.lines.Line2D at 0x7f5d31e272d0>,\n <matplotlib.lines.Line2D at 0x7f5d31e27550>]"
      ]
     },
     "execution_count": 35,
     "metadata": {},
     "output_type": "execute_result"
    },
    {
     "data": {
      "image/png": "[encoded data removed]",
      "text/plain": [
       "<matplotlib.figure.Figure at 0x7f5d320e5fd0>"
      ]
     },
     "metadata": {},
     "output_type": "display_data"
    }
   ],
   "source": [
    "ejex = np.arange(y_test.shape[1])\n",
    "print(x_test.shape)\n",
    "pred = model.predict(x_test)\n",
    "print(pred[0].shape)\n",
    "plt.plot(ejex, y_test[0, :, 2], ejex, pred[0][0, :, 2])"
   ]
  },
  {
   "cell_type": "code",
   "execution_count": null,
   "metadata": {},
   "outputs": [],
   "source": [
    "model.evaluate(x_test, [y_test, y_aux_test], sample_weight=[mask_test, mask_aux_test])"
   ]
  },
  {
   "cell_type": "code",
   "execution_count": null,
   "outputs": [],
   "source": [
    ""
   ]
  }
 ],
 "metadata": {
  "kernelspec": {
   "display_name": "Python 2",
   "language": "python",
   "name": "python2"
  },
  "language_info": {
   "codemirror_mode": {
    "name": "ipython",
    "version": 2.0
   },
   "file_extension": ".py",
   "mimetype": "text/x-python",
   "name": "python",
   "nbconvert_exporter": "python",
   "pygments_lexer": "ipython2",
   "version": "2.7.6"
  }
 },
 "nbformat": 4,
 "nbformat_minor": 0
}